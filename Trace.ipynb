{
 "cells": [
  {
   "cell_type": "code",
   "execution_count": 116,
   "metadata": {},
   "outputs": [],
   "source": [
    "from arcgis import GIS,mapping,features,geometry\n",
    "import arcpy \n",
    "import json\n",
    "import sys \n",
    "import requests"
   ]
  },
  {
   "cell_type": "code",
   "execution_count": 117,
   "metadata": {},
   "outputs": [
    {
     "name": "stdout",
     "output_type": "stream",
     "text": [
      "https://water.bd.esri.com/portal\n"
     ]
    }
   ],
   "source": [
    "#To start the trace we first need to compile a few parameters. \n",
    "# Portal URL \n",
    "pUrl = \"https://water.bd.esri.com/portal\"\n",
    "gis = GIS(pUrl,\"ic_water\",\"#######\")\n",
    "print (gis.url)"
   ]
  },
  {
   "cell_type": "code",
   "execution_count": 118,
   "metadata": {},
   "outputs": [
    {
     "name": "stdout",
     "output_type": "stream",
     "text": [
      "[-88.122724, 41.7731766]\n"
     ]
    }
   ],
   "source": [
    "# The next step is to get the GPS starting point.We assume GPS data comes in WGS84 projection\n",
    "# for the purpose of the notebook we have a smaple start point\n",
    "\n",
    "inPt = [float(i) for i in arcpy.GetParameterAsText(0).split(\",\")] if not arcpy.GetParameterAsText(0)== \"\" else [-88.122724, 41.7731766]\n",
    "print(inPt)"
   ]
  },
  {
   "cell_type": "code",
   "execution_count": 119,
   "metadata": {},
   "outputs": [
    {
     "name": "stdout",
     "output_type": "stream",
     "text": [
      "Water Line\n"
     ]
    }
   ],
   "source": [
    "# Utility Network base service URL\n",
    "sUrl = \"https://water-un.bd.esri.com/server/rest/services/Naperville/Water_Distribution_Utility_Network\"\n",
    "\n",
    "# The UN trace has several input options but the quickest way to set a start point is on a line segment.\n",
    "# Need to query the line layer to get the start feature. Check the REST page of the service to get the correct layer ID\n",
    "lLayer = features.FeatureLayer(sUrl + \"/FeatureServer/515\",gis)\n",
    "print (lLayer.properties.name)\n",
    "\n",
    "\n"
   ]
  },
  {
   "cell_type": "code",
   "execution_count": 120,
   "metadata": {},
   "outputs": [
    {
     "name": "stdout",
     "output_type": "stream",
     "text": [
      "{\"geometry\": {\"paths\": [[[-88.12286030642272, 41.773047352552396], [-88.12278921932774, 41.77306411313595], [-88.1226244850675, 41.77310421047509], [-88.12253268950369, 41.77311818320672], [-88.1223821375177, 41.77313856033188], [-88.12237070867023, 41.77314010688092], [-88.12229237372952, 41.773148001467625], [-88.12222249886871, 41.77315152227112], [-88.12206026588429, 41.77315969648341], [-88.121918388035, 41.77316392741448], [-88.12164916661115, 41.77317195814588]]]}, \"attributes\": {\"globalid\": \"{4DFC2E5F-AE41-4C07-8C77-BC62B8FBE287}\"}}\n"
     ]
    }
   ],
   "source": [
    "# To query the service, construct the correct REST format\n",
    "pt = {\"x\" : inPt[0], \"y\" : inPt[1]}\n",
    "\n",
    "# Since this is GPS data, it is unlikely to be right on the line...\n",
    "# we want to progressively increase our search distance until a line is found:\n",
    "line = None\n",
    "d=20\n",
    "while line is None and d<=200:\n",
    "    res = lLayer.query(outFields=\"globalid\",geometry=pt,geometryType=\"esriGeometryPoint\",inSR=4326,spatialRel=\"esriSpatialRelIntersects\",distance=d,units=\"esriSRUnit_Foot\",returnGeometry=True,outSR=4326)\n",
    "    if len(res.features)>0: line = res.features[0] # This is the first, not necessarily the closeset line!\n",
    "    else: d+=20\n",
    "if not line: raise Exception(\"No Line Found\")\n",
    "else: print(line)"
   ]
  },
  {
   "cell_type": "code",
   "execution_count": 121,
   "metadata": {},
   "outputs": [
    {
     "name": "stdout",
     "output_type": "stream",
     "text": [
      "True,True\n"
     ]
    }
   ],
   "source": [
    "# Now that we have a line we need to idenify where on the line the input point is closest to (% along line)\n",
    "# We can construct a arcgis geometry to do this.\n",
    "line.geometry[\"spatialReference\"]= {\"wkid\" : 4326}\n",
    "ln = geometry.Geometry(line.geometry)\n",
    "\n",
    "# Convert the start point to a geometry \n",
    "pt[\"spatialReference\"]= {\"wkid\" : 4326}\n",
    "pt = geometry.Geometry(pt)\n",
    "\n",
    "print(\"{},{}\".format(ln.is_valid(),pt.is_valid()))"
   ]
  },
  {
   "cell_type": "code",
   "execution_count": 122,
   "metadata": {},
   "outputs": [
    {
     "name": "stdout",
     "output_type": "stream",
     "text": [
      "\t\tpt on line\t\t\t\t percent along line\t distance to line\n",
      "(<PointGeometry object at 0x200d4042710[0x200d09f7328]>, 0.13347064322120789, 9.387131011558406e-05, False)\n",
      "\n"
     ]
    }
   ],
   "source": [
    "# Use the geometries to find the % measure along the line\n",
    "measure_start = ln.query_point_and_distance(pt,True)\n",
    "print(\"\\t\\tpt on line\\t\\t\\t\\t percent along line\\t distance to line\\n{}\\n\".format(measure_start))\n",
    "\n"
   ]
  },
  {
   "cell_type": "code",
   "execution_count": 123,
   "metadata": {},
   "outputs": [
    {
     "name": "stdout",
     "output_type": "stream",
     "text": [
      "['{4DFC2E5F-AE41-4C07-8C77-BC62B8FBE287}', 0.13347064322120789]\n"
     ]
    }
   ],
   "source": [
    "# To define the start for the trace, we need the line GLOBALID and the distance along the line.\n",
    "start = [line.attributes['globalid'],measure_start[1]]\n",
    "print (start)"
   ]
  },
  {
   "cell_type": "code",
   "execution_count": 124,
   "metadata": {
    "scrolled": true
   },
   "outputs": [
    {
     "name": "stdout",
     "output_type": "stream",
     "text": [
      "{\"traceResults\":{\"elements\":[{\"networkSourceId\":6,\"globalId\":\"{93AF5D5A-14FF-47BD-86B8-A773EEC7EA1B}\",\"objectId\":11172,\"terminalId\":1,\"assetGroupCode\":2,\"assetTypeCode\":170},{\"networkSourceId\":6,\"globalId\":\"{197A5573-CB5E-4C64-A86A-473ED3D33408}\",\"objectId\":11469,\"terminalId\":1,\"assetGroupCode\":2,\"assetTypeCode\":170},{\"networkSourceId\":6,\"globalId\":\"{10288BB8-2E93-42A1-B823-C7793A340F5F}\",\"objectId\":12155,\"terminalId\":1,\"assetGroupCode\":2,\"assetTypeCode\":170},{\"networkSourceId\":6,\"globalId\":\"{BB176677-30E7-4D34-BC6F-88ACDB820623}\",\"objectId\":12116,\"terminalId\":1,\"assetGroupCode\":2,\"assetTypeCode\":170},{\"networkSourceId\":6,\"globalId\":\"{96D1F6FA-4765-4A67-BA2A-0E5F04B164A0}\",\"objectId\":11893,\"terminalId\":1,\"assetGroupCode\":2,\"assetTypeCode\":170}],\"diagramName\":\"\\u003cplaceholder\\u003e\",\"globalFunctionResults\":[],\"kFeaturesForKNNFound\":false,\"startingPointsIgnored\":false,\"warnings\":[]},\"success\":true}\n"
     ]
    }
   ],
   "source": [
    "# set up the trace\n",
    "unUrl = sUrl + \"/UtilityNetworkServer/trace\"\n",
    "data = {} \n",
    "data[\"gdbVersion\"] = \"sde.DEFAULT\"\n",
    "data[\"sessionId\"] = \"\"\n",
    "data[\"moment\"] = \"\"\n",
    "data[\"traceType\"] = \"isolation\"\n",
    "isolated = \"false\" # Only return barriers\n",
    "data[\"f\"] = \"json\" # Output json format\n",
    "data[\"token\"] = gis._con._token \n",
    "\n",
    "# Parse start into the correct format. You can get the parameters from a fiddler log of a trace from Pro or the documentation\n",
    "data[\"traceLocations\"] = \"\"\"[{{\"traceLocationType\":\"startingPoint\",\"globalId\":\"{}\",\"percentAlong\":{}}}]\"\"\".format(start[0],start[1])\n",
    "\n",
    "# a big json parameter is needed here. You can get the parameters from a fiddler log of a trace from Pro or review the documentation\n",
    "data[\"traceConfiguration\"] = \"\"\"{\"includeContainers\":true,\"includeContent\":false,\"includeStructures\":true,\"includeBarriers\":true,\"validateConsistency\":true,\"includeIsolated\":false,\"ignoreBarriersAtStartingPoints\":false,\"domainNetworkName\":\"water\",\"tierName\":\"water system\",\"targetTierName\":\"\",\"subnetworkName\":\"\",\"diagramTemplateName\":\"\",\"shortestPathNetworkAttributeName\":\"\",\"filterBitsetNetworkAttributeName\":\"\",\"traversabilityScope\":\"junctionsAndEdges\",\"conditionBarriers\":[{\"name\":\"P:Device Status\",\"type\":\"networkAttribute\",\"operator\":\"equal\",\"value\":0,\"combineUsingOr\":true,\"isSpecificValue\":true},{\"name\":\"Lifecycle Status\",\"type\":\"networkAttribute\",\"operator\":\"doesNotIncludeAny\",\"value\":24,\"combineUsingOr\":true,\"isSpecificValue\":true},{\"name\":\"Category\",\"type\":\"category\",\"operator\":\"equal\",\"value\":\"CP Only\",\"combineUsingOr\":false,\"isSpecificValue\":true}],\"functionBarriers\":[],\"arcadeExpressionBarrier\":\"\",\"filterBarriers\":[{\"name\":\"Operable\",\"type\":\"networkAttribute\",\"operator\":\"equal\",\"value\":1,\"combineUsingOr\":false,\"isSpecificValue\":true}],\"filterFunctionBarriers\":[],\"filterScope\":\"junctionsAndEdges\",\"functions\":[],\"nearestNeighbor\":{\"count\":-1,\"costNetworkAttributeName\":\"\",\"nearestCategories\":[],\"nearestAssets\":[]},\"outputFilters\":[],\"outputConditions\":[],\"propagators\":[]}\"\"\"\n",
    "\n",
    "# request the trace\n",
    "res = requests.get(unUrl,params=data)\n",
    "# The trace results are only the barriers identified during the isolation trace\n",
    "# The result is an unordered list of  features with a limited set of attributes\n",
    "print (res.text)\n"
   ]
  },
  {
   "cell_type": "markdown",
   "metadata": {},
   "source": [
    "To get meters we need to make very slight modifications to the **trace configuration.**\n",
    "\n",
    "Change the following parameters:\n",
    "1. The parameter to return not just the barriers, but all of the network elements that are impacted by the isolation\n",
    "        \"includeIsolated\":true\n",
    "2. The parameter to apply a filter the elements being returned to just the service connections asset group\n",
    "\n",
    "        \"outputFilters\":[{\"name\":\"Device Asset Group\",\"type\":\"networkAttribute\",\"operator\":\"equal\",\"value\":12,\"combineUsingOr\":false,\"isSpecificValue\":true}]\n",
    "\n",
    "**Making these changes to the previous trace configuration will result in only service connections being returned from the trace.**\n",
    "\n",
    "Now back to the isolation valve results..."
   ]
  },
  {
   "cell_type": "code",
   "execution_count": null,
   "metadata": {},
   "outputs": [],
   "source": [
    "# While useful, we need to go back and query the service for the other valve fields we cae about \n",
    "fields = [\"assetgroup\",\"assettype\",\"Operable\",\"assetid\",\"designtype\",\"designinfo\",\"additionaldetails\", \"objectid\"]\n",
    "# Need to query the device layer to get the start feature. Check the REST page of the service to get the correct layer ID\n",
    "dLayer = features.FeatureLayer(sUrl + \"/FeatureServer/501\",gis)\n",
    "# Make query using objectids from trace results \n",
    "devices = json.loads(res.content)['traceResults']['elements']\n",
    "query = \"\"\" operable = 1  and objectid in ({})\"\"\".format(\",\".join([str(i['objectId']) for i in devices]))\n",
    "\n",
    "# Query the service \n",
    "valves = dLayer.query(query,out_fields=fields,return_geometry=True,outSR=4326)\n",
    "print(valves)"
   ]
  },
  {
   "cell_type": "code",
   "execution_count": 126,
   "metadata": {},
   "outputs": [
    {
     "name": "stdout",
     "output_type": "stream",
     "text": [
      "{'assetgroup': 'Controllable Valve', 'assettype': 'System', 'operable': 'T', 'assetid': 'cv-9818', 'designtype': 'Gate', 'designinfo': 12.0, 'additionaldetails': 'Clockwise', 'objectid': 11172}\n",
      "{'assetgroup': 'Controllable Valve', 'assettype': 'System', 'operable': 'T', 'assetid': 'cv-10111', 'designtype': 'Gate', 'designinfo': 12.0, 'additionaldetails': 'Clockwise', 'objectid': 11469}\n",
      "{'assetgroup': 'Controllable Valve', 'assettype': 'System', 'operable': 'T', 'assetid': 'cv-10535', 'designtype': 'Gate', 'designinfo': 12.0, 'additionaldetails': 'Clockwise', 'objectid': 11893}\n",
      "{'assetgroup': 'Controllable Valve', 'assettype': 'System', 'operable': 'T', 'assetid': 'cv-10758', 'designtype': 'Gate', 'designinfo': 12.0, 'additionaldetails': 'Clockwise', 'objectid': 12116}\n",
      "{'assetgroup': 'Controllable Valve', 'assettype': 'System', 'operable': 'T', 'assetid': 'cv-10797', 'designtype': 'Gate', 'designinfo': 12.0, 'additionaldetails': 'Clockwise', 'objectid': 12155}\n"
     ]
    }
   ],
   "source": [
    "# While more useful, we need to translate the coded values to descriptions to make the data human readable\n",
    "# to translate them we need a domain lookup. The layer properties has ALL the domains we need.\n",
    "#Some domains are described in the layer properties at the field level\n",
    "\n",
    "dOperable = {i[\"code\"]:i[\"name\"] for i in  [i[\"domain\"][\"codedValues\"] for i in  dLayer.properties.fields if i[\"name\"]==\"operable\"][0]}\n",
    "\n",
    "# Some domains are assigned at the subtype level so each feature subtype (\"AssetGroup\") needs to be considered:\n",
    "for feature in valves.features:\n",
    "    domains = [s.domains for s in dLayer.properties.subtypes if s[\"code\"]== feature.attributes[\"assetgroup\"]][0]\n",
    "    try: # in case of data anomalies\n",
    "        feature.attributes[\"assetgroup\"] = [i.name for i in dLayer.properties.subtypes if i.code==feature.attributes[\"assetgroup\"]][0]\n",
    "        feature.attributes[\"operable\"] = dOperable[feature.attributes[\"operable\"]][0]\n",
    "    except:pass\n",
    "    try:\n",
    "        feature.attributes[\"assettype\"] = [i.name for i in domains.assettype.codedValues if i.code==feature.attributes[\"assettype\"]][0]\n",
    "    except:pass \n",
    "    try:\n",
    "        feature.attributes[\"designtype\"] = [i.name for i in domains.designtype.codedValues if i.code==feature.attributes[\"designtype\"]][0]\n",
    "    except: pass \n",
    "    try:\n",
    "        feature.attributes[\"additionaldetails\"] = [i.name for i in domains.additionaldetails.codedValues if i.code==feature.attributes[\"additionaldetails\"]][0]\n",
    "    except:pass\n",
    "\n",
    "for v in valves: print(v.attributes)\n"
   ]
  },
  {
   "cell_type": "code",
   "execution_count": null,
   "metadata": {},
   "outputs": [],
   "source": [
    "# There, we now have a set of isolation devices!"
   ]
  }
 ],
 "metadata": {
  "kernelspec": {
   "display_name": "ArcGISPro",
   "language": "Python",
   "name": "python3"
  },
  "language_info": {
   "file_extension": ".py",
   "name": "python",
   "version": "3"
  }
 },
 "nbformat": 4,
 "nbformat_minor": 2
}
